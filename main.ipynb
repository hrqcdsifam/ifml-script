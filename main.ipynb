{
 "cells": [
  {
   "cell_type": "markdown",
   "metadata": {},
   "source": [
    "# Transformação de IFML para uso na IDE\n",
    "\n",
    "## Objetivo:\n",
    "\n",
    "Desenvolver uma transformação de modelos que consome um arquivo XML/JSON contendo a definição de um modelo IFML e gera um arquivo manifest.json que seja compatível com as especificações da IDE em desenvolvimento. Essa transformação automatiza a geração de manifestos de configuração, facilitando a integração e o carregamento de modelos na IDE.\n",
    "\n"
   ]
  },
  {
   "cell_type": "markdown",
   "metadata": {},
   "source": [
    "## Bibliotecas Utilizadas\n",
    "\n",
    "### etree (ElementTree):\n",
    "\n",
    "#### Descrição: \n",
    "etree é um módulo da biblioteca padrão do Python utilizado para a manipulação e criação de estruturas XML. Ele fornece uma API simples e eficiente para navegar, criar e modificar documentos XML.\n",
    "\n",
    "#### Aplicação: \n",
    "No contexto deste projeto, etree pode ser utilizado para a criação e manipulação de XML intermediários ou para a construção de estruturas hierárquicas que serão, posteriormente, convertidas para JSON. Também pode ser usado para mapear as estruturas do modelo IFML em um formato que seja mais facilmente processável.\n",
    "\n",
    "### lxml:\n",
    "\n",
    "#### Descrição: \n",
    "lxml é uma biblioteca poderosa e flexível para processamento de XML e HTML, construída sobre libxml2 e libxslt. Ela oferece suporte completo a XPath, XSLT, e validação XML, além de ser mais rápida e eficiente em comparação com etree.\n",
    "#### Aplicação: \n",
    "lxml pode ser utilizada como uma opção secundária ou complementar para manipulação de XML, especialmente se você precisar de recursos avançados como consultas XPath mais complexas, transformações XSLT, ou validação de documentos XML contra DTD ou XML Schema.\n",
    "\n",
    "### PyEcore:\n",
    "\n",
    "#### Descrição: \n",
    "PyEcore é uma implementação Python do EMF (Eclipse Modeling Framework), que facilita o trabalho com metamodelos e modelos baseados em Ecore, um formato de metamodelagem usado para definir a estrutura de dados e regras de validação.\n",
    "\n",
    "#### Aplicação: \n",
    "PyEcore será fundamental para interpretar o modelo IFML, permitindo a transformação de suas entidades em componentes que compõem o manifest.json. Isso inclui a extração de atributos, relações e a estrutura lógica do modelo, que são então traduzidos para o formato esperado pelo manifesto.\n",
    "\n",
    "## Fluxo de Trabalho\n",
    "\n",
    "### Leitura do Modelo IFML JSON:\n",
    "\n",
    "O primeiro passo é carregar o modelo IFML. Esse modelo representa as interações, fluxos e componentes de uma interface de usuário e será a base para a transformação.\n",
    "Processamento com etree, lxml, e PyEcore:\n",
    "\n",
    "Utilizando PyEcore, o modelo IFML é analisado e mapeado para entidades que possam ser facilmente manipuladas. Em seguida, com o auxílio de etree ou lxml, essas entidades são estruturadas e preparadas para a conversão em JSON, mantendo a coerência com as especificações da IDE. lxml pode ser testada como alternativa se forem necessários recursos adicionais ou otimizações.\n",
    "Geração do manifest.json:\n",
    "\n",
    "O último passo é a geração do arquivo manifest.json. Esse arquivo será criado com base na estrutura processada, garantindo que todos os componentes necessários estejam presentes e configurados de acordo com as exigências da IDE."
   ]
  },
  {
   "cell_type": "code",
   "execution_count": 2,
   "metadata": {},
   "outputs": [],
   "source": [
    "# importação das libs utlizadas no script\n",
    "\n",
    "import time\n",
    "import xml.etree.ElementTree as ET\n",
    "from lxml import etree\n",
    "from pyecore.ecore import EClass, EAttribute, EString, EObject\n"
   ]
  },
  {
   "cell_type": "code",
   "execution_count": 5,
   "metadata": {},
   "outputs": [
    {
     "name": "stdout",
     "output_type": "stream",
     "text": [
      "Project Name: proj1\n",
      "Author: carlos\n",
      "IHM Model: Px4, Width: 480, Height: 272, Orientation: landscape\n",
      "\n",
      "Screen ID: screen1, Background Color: white, Height: 480, Width: 482, Orientation: portrait\n",
      "  Component Type: TextArea2, ID: TextArea1\n",
      "  Component Type: TextField, ID: TextField1\n",
      "  Component Type: TextArea, ID: textArea1\n",
      "  Component Type: CheckBox, ID: CheckBox1\n",
      "  Component Type: Bar, ID: Bar1\n",
      "  Component Type: Image, ID: image1\n",
      "  Component Type: ButtonWithLabel, ID: buttonWithLabel1\n",
      "  Component Type: Panel, ID: panel1\n"
     ]
    }
   ],
   "source": [
    "# Utilizando o etree\n",
    "\n",
    "tree = ET.parse(\"./manifest.base.xml\")\n",
    "root = tree.getroot()\n",
    "\n",
    "# Access the project name\n",
    "project_name = root.find('Name').text\n",
    "print(f\"Project Name: {project_name}\")\n",
    "\n",
    "# Access the author\n",
    "author = root.find('Author').text\n",
    "print(f\"Author: {author}\")\n",
    "\n",
    "# Access the IHM details\n",
    "ihm = root.find('IHM')\n",
    "ihm_model = ihm.find('Model').text\n",
    "ihm_width = ihm.find('Width').text\n",
    "ihm_height = ihm.find('Height').text\n",
    "ihm_orientation = ihm.find('Orientation').text\n",
    "print(f\"IHM Model: {ihm_model}, Width: {ihm_width}, Height: {ihm_height}, Orientation: {ihm_orientation}\")\n",
    "\n",
    "# Access the screens\n",
    "screens = root.find('Screens')\n",
    "for screen in screens.findall('Screen'):\n",
    "    screen_id = screen.find('ID').text\n",
    "    background_color = screen.find('BackgroundColor').text\n",
    "    screen_height = screen.find('Height').text\n",
    "    screen_width = screen.find('Width').text\n",
    "    orientation = screen.find('Orientation').text\n",
    "    print(f\"\\nScreen ID: {screen_id}, Background Color: {background_color}, Height: {screen_height}, Width: {screen_width}, Orientation: {orientation}\")\n",
    "\n",
    "    # Access the child components of the screen\n",
    "    childs = screen.find('Childs')\n",
    "    for child in childs:\n",
    "        type_component = child.tag\n",
    "        child_id = child.find('ID').text\n",
    "        print(f\"  Component Type: {type_component}, ID: {child_id}\")\n",
    "\n"
   ]
  },
  {
   "cell_type": "code",
   "execution_count": 4,
   "metadata": {},
   "outputs": [
    {
     "name": "stdout",
     "output_type": "stream",
     "text": [
      "Project Name: proj1\n",
      "Author: carlos\n",
      "IHM Model: Px4, Width: 480, Height: 272, Orientation: landscape\n",
      "\n",
      "Screen ID: screen1, Background Color: white, Height: 480, Width: 482, Orientation: portrait\n"
     ]
    }
   ],
   "source": [
    "# Utilizando o LXML\n",
    "\n",
    "tree = etree.parse('./manifest.base.xml')\n",
    "root = tree.getroot()\n",
    "\n",
    "# Access the project name\n",
    "project_name = root.find('Name').text\n",
    "print(f\"Project Name: {project_name}\")\n",
    "\n",
    "# Access the author\n",
    "author = root.find('Author').text\n",
    "print(f\"Author: {author}\")\n",
    "\n",
    "# Access the IHM details\n",
    "ihm = root.find('IHM')\n",
    "ihm_model = ihm.find('Model').text\n",
    "ihm_width = ihm.find('Width').text\n",
    "ihm_height = ihm.find('Height').text\n",
    "ihm_orientation = ihm.find('Orientation').text\n",
    "print(f\"IHM Model: {ihm_model}, Width: {ihm_width}, Height: {ihm_height}, Orientation: {ihm_orientation}\")\n",
    "\n",
    "# Access the screens\n",
    "screens = root.find('Screens')\n",
    "for screen in screens.findall('Screen'):\n",
    "    screen_id = screen.find('ID').text\n",
    "    background_color = screen.find('BackgroundColor').text\n",
    "    screen_height = screen.find('Height').text\n",
    "    screen_width = screen.find('Width').text\n",
    "    orientation = screen.find('Orientation').text\n",
    "    print(f\"\\nScreen ID: {screen_id}, Background Color: {background_color}, Height: {screen_height}, Width: {screen_width}, Orientation: {orientation}\")\n"
   ]
  },
  {
   "cell_type": "markdown",
   "metadata": {},
   "source": []
  }
 ],
 "metadata": {
  "kernelspec": {
   "display_name": "ifml-pyecore-wXWfTNya",
   "language": "python",
   "name": "python3"
  },
  "language_info": {
   "codemirror_mode": {
    "name": "ipython",
    "version": 3
   },
   "file_extension": ".py",
   "mimetype": "text/x-python",
   "name": "python",
   "nbconvert_exporter": "python",
   "pygments_lexer": "ipython3",
   "version": "3.12.1"
  }
 },
 "nbformat": 4,
 "nbformat_minor": 2
}
